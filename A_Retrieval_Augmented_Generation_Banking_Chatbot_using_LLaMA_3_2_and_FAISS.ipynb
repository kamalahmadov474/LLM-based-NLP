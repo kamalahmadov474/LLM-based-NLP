{
  "cells": [
    {
      "cell_type": "markdown",
      "metadata": {
        "id": "view-in-github",
        "colab_type": "text"
      },
      "source": [
        "<a href=\"https://colab.research.google.com/github/kamalahmadov474/LLM-based-NLP/blob/main/A_Retrieval_Augmented_Generation_Banking_Chatbot_using_LLaMA_3_2_and_FAISS.ipynb\" target=\"_parent\"><img src=\"https://colab.research.google.com/assets/colab-badge.svg\" alt=\"Open In Colab\"/></a>"
      ]
    },
    {
      "cell_type": "markdown",
      "source": [
        "Pull LLaMA 3.2 Model"
      ],
      "metadata": {
        "id": "8fvyqlR1ic9j"
      },
      "id": "8fvyqlR1ic9j"
    },
    {
      "cell_type": "code",
      "execution_count": null,
      "id": "dc700a2f-df47-4a22-98ef-73cb06350abe",
      "metadata": {
        "collapsed": true,
        "id": "dc700a2f-df47-4a22-98ef-73cb06350abe",
        "outputId": "bbd0597a-a03c-44f3-ee36-e13c91e6f42a"
      },
      "outputs": [
        {
          "name": "stderr",
          "output_type": "stream",
          "text": [
            "\u001b[?2026h\u001b[?25l\u001b[1Gpulling manifest â ‹ \u001b[K\u001b[?25h\u001b[?2026l\u001b[?2026h\u001b[?25l\u001b[1Gpulling manifest â ™ \u001b[K\u001b[?25h\u001b[?2026l\u001b[?2026h\u001b[?25l\u001b[1Gpulling manifest â ¹ \u001b[K\u001b[?25h\u001b[?2026l\u001b[?2026h\u001b[?25l\u001b[1Gpulling manifest â ¸ \u001b[K\u001b[?25h\u001b[?2026l\u001b[?2026h\u001b[?25l\u001b[1Gpulling manifest â ¼ \u001b[K\u001b[?25h\u001b[?2026l\u001b[?2026h\u001b[?25l\u001b[1Gpulling manifest â ´ \u001b[K\u001b[?25h\u001b[?2026l\u001b[?2026h\u001b[?25l\u001b[1Gpulling manifest â ¦ \u001b[K\u001b[?25h\u001b[?2026l\u001b[?2026h\u001b[?25l\u001b[1Gpulling manifest â § \u001b[K\u001b[?25h\u001b[?2026l\u001b[?2026h\u001b[?25l\u001b[1Gpulling manifest â ‡ \u001b[K\u001b[?25h\u001b[?2026l\u001b[?2026h\u001b[?25l\u001b[1Gpulling manifest â � \u001b[K\u001b[?25h\u001b[?2026l\u001b[?2026h\u001b[?25l\u001b[1Gpulling manifest â ‹ \u001b[K\u001b[?25h\u001b[?2026l\u001b[?2026h\u001b[?25l\u001b[1Gpulling manifest \u001b[K\n",
            "pulling dde5aa3fc5ff: 100% â–•â–ˆâ–ˆâ–ˆâ–ˆâ–ˆâ–ˆâ–ˆâ–ˆâ–ˆâ–ˆâ–ˆâ–ˆâ–ˆâ–ˆâ–ˆâ–ˆâ–ˆâ–ˆâ–� 2.0 GB                         \u001b[K\n",
            "pulling 966de95ca8a6: 100% â–•â–ˆâ–ˆâ–ˆâ–ˆâ–ˆâ–ˆâ–ˆâ–ˆâ–ˆâ–ˆâ–ˆâ–ˆâ–ˆâ–ˆâ–ˆâ–ˆâ–ˆâ–ˆâ–� 1.4 KB                         \u001b[K\n",
            "pulling fcc5a6bec9da: 100% â–•â–ˆâ–ˆâ–ˆâ–ˆâ–ˆâ–ˆâ–ˆâ–ˆâ–ˆâ–ˆâ–ˆâ–ˆâ–ˆâ–ˆâ–ˆâ–ˆâ–ˆâ–ˆâ–� 7.7 KB                         \u001b[K\n",
            "pulling a70ff7e570d9: 100% â–•â–ˆâ–ˆâ–ˆâ–ˆâ–ˆâ–ˆâ–ˆâ–ˆâ–ˆâ–ˆâ–ˆâ–ˆâ–ˆâ–ˆâ–ˆâ–ˆâ–ˆâ–ˆâ–� 6.0 KB                         \u001b[K\n",
            "pulling 56bb8bd477a5: 100% â–•â–ˆâ–ˆâ–ˆâ–ˆâ–ˆâ–ˆâ–ˆâ–ˆâ–ˆâ–ˆâ–ˆâ–ˆâ–ˆâ–ˆâ–ˆâ–ˆâ–ˆâ–ˆâ–�   96 B                         \u001b[K\n",
            "pulling 34bb5ab01051: 100% â–•â–ˆâ–ˆâ–ˆâ–ˆâ–ˆâ–ˆâ–ˆâ–ˆâ–ˆâ–ˆâ–ˆâ–ˆâ–ˆâ–ˆâ–ˆâ–ˆâ–ˆâ–ˆâ–�  561 B                         \u001b[K\n",
            "verifying sha256 digest \u001b[K\n",
            "writing manifest \u001b[K\n",
            "success \u001b[K\u001b[?25h\u001b[?2026l\n"
          ]
        }
      ],
      "source": [
        "!ollama pull llama3.2"
      ]
    },
    {
      "cell_type": "markdown",
      "source": [
        "Install Required Libraries"
      ],
      "metadata": {
        "id": "i3kOckVVifOZ"
      },
      "id": "i3kOckVVifOZ"
    },
    {
      "cell_type": "code",
      "execution_count": null,
      "id": "b76ef783-47a3-4b45-9771-7c7502491ab8",
      "metadata": {
        "scrolled": true,
        "collapsed": true,
        "id": "b76ef783-47a3-4b45-9771-7c7502491ab8",
        "outputId": "e9a54a4c-8795-49e1-c6b0-1dddeb9430f0"
      },
      "outputs": [
        {
          "name": "stdout",
          "output_type": "stream",
          "text": [
            "Requirement already satisfied: faiss-cpu in c:\\users\\tuf\\anaconda3\\envs\\llms\\lib\\site-packages (1.12.0)\n",
            "Requirement already satisfied: sentence-transformers in c:\\users\\tuf\\anaconda3\\envs\\llms\\lib\\site-packages (5.1.0)\n",
            "Requirement already satisfied: openai in c:\\users\\tuf\\anaconda3\\envs\\llms\\lib\\site-packages (1.99.6)\n",
            "Requirement already satisfied: pandas in c:\\users\\tuf\\anaconda3\\envs\\llms\\lib\\site-packages (2.3.1)\n",
            "Requirement already satisfied: numpy<3.0,>=1.25.0 in c:\\users\\tuf\\anaconda3\\envs\\llms\\lib\\site-packages (from faiss-cpu) (1.26.4)\n",
            "Requirement already satisfied: packaging in c:\\users\\tuf\\anaconda3\\envs\\llms\\lib\\site-packages (from faiss-cpu) (25.0)\n",
            "Requirement already satisfied: transformers<5.0.0,>=4.41.0 in c:\\users\\tuf\\anaconda3\\envs\\llms\\lib\\site-packages (from sentence-transformers) (4.55.0)\n",
            "Requirement already satisfied: tqdm in c:\\users\\tuf\\anaconda3\\envs\\llms\\lib\\site-packages (from sentence-transformers) (4.67.1)\n",
            "Requirement already satisfied: torch>=1.11.0 in c:\\users\\tuf\\anaconda3\\envs\\llms\\lib\\site-packages (from sentence-transformers) (2.7.1)\n",
            "Requirement already satisfied: scikit-learn in c:\\users\\tuf\\anaconda3\\envs\\llms\\lib\\site-packages (from sentence-transformers) (1.7.1)\n",
            "Requirement already satisfied: scipy in c:\\users\\tuf\\anaconda3\\envs\\llms\\lib\\site-packages (from sentence-transformers) (1.13.1)\n",
            "Requirement already satisfied: huggingface-hub>=0.20.0 in c:\\users\\tuf\\anaconda3\\envs\\llms\\lib\\site-packages (from sentence-transformers) (0.34.4)\n",
            "Requirement already satisfied: Pillow in c:\\users\\tuf\\anaconda3\\envs\\llms\\lib\\site-packages (from sentence-transformers) (11.3.0)\n",
            "Requirement already satisfied: typing_extensions>=4.5.0 in c:\\users\\tuf\\anaconda3\\envs\\llms\\lib\\site-packages (from sentence-transformers) (4.14.1)\n",
            "Requirement already satisfied: filelock in c:\\users\\tuf\\anaconda3\\envs\\llms\\lib\\site-packages (from transformers<5.0.0,>=4.41.0->sentence-transformers) (3.18.0)\n",
            "Requirement already satisfied: pyyaml>=5.1 in c:\\users\\tuf\\anaconda3\\envs\\llms\\lib\\site-packages (from transformers<5.0.0,>=4.41.0->sentence-transformers) (6.0.2)\n",
            "Requirement already satisfied: regex!=2019.12.17 in c:\\users\\tuf\\anaconda3\\envs\\llms\\lib\\site-packages (from transformers<5.0.0,>=4.41.0->sentence-transformers) (2025.7.34)\n",
            "Requirement already satisfied: requests in c:\\users\\tuf\\anaconda3\\envs\\llms\\lib\\site-packages (from transformers<5.0.0,>=4.41.0->sentence-transformers) (2.32.4)\n",
            "Requirement already satisfied: tokenizers<0.22,>=0.21 in c:\\users\\tuf\\anaconda3\\envs\\llms\\lib\\site-packages (from transformers<5.0.0,>=4.41.0->sentence-transformers) (0.21.4)\n",
            "Requirement already satisfied: safetensors>=0.4.3 in c:\\users\\tuf\\anaconda3\\envs\\llms\\lib\\site-packages (from transformers<5.0.0,>=4.41.0->sentence-transformers) (0.6.2)\n",
            "Requirement already satisfied: fsspec>=2023.5.0 in c:\\users\\tuf\\anaconda3\\envs\\llms\\lib\\site-packages (from huggingface-hub>=0.20.0->sentence-transformers) (2025.3.0)\n",
            "Requirement already satisfied: anyio<5,>=3.5.0 in c:\\users\\tuf\\anaconda3\\envs\\llms\\lib\\site-packages (from openai) (4.10.0)\n",
            "Requirement already satisfied: distro<2,>=1.7.0 in c:\\users\\tuf\\anaconda3\\envs\\llms\\lib\\site-packages (from openai) (1.9.0)\n",
            "Requirement already satisfied: httpx<1,>=0.23.0 in c:\\users\\tuf\\anaconda3\\envs\\llms\\lib\\site-packages (from openai) (0.28.1)\n",
            "Requirement already satisfied: jiter<1,>=0.4.0 in c:\\users\\tuf\\anaconda3\\envs\\llms\\lib\\site-packages (from openai) (0.10.0)\n",
            "Requirement already satisfied: pydantic<3,>=1.9.0 in c:\\users\\tuf\\anaconda3\\envs\\llms\\lib\\site-packages (from openai) (2.11.7)\n",
            "Requirement already satisfied: sniffio in c:\\users\\tuf\\anaconda3\\envs\\llms\\lib\\site-packages (from openai) (1.3.1)\n",
            "Requirement already satisfied: idna>=2.8 in c:\\users\\tuf\\anaconda3\\envs\\llms\\lib\\site-packages (from anyio<5,>=3.5.0->openai) (3.10)\n",
            "Requirement already satisfied: certifi in c:\\users\\tuf\\anaconda3\\envs\\llms\\lib\\site-packages (from httpx<1,>=0.23.0->openai) (2025.8.3)\n",
            "Requirement already satisfied: httpcore==1.* in c:\\users\\tuf\\anaconda3\\envs\\llms\\lib\\site-packages (from httpx<1,>=0.23.0->openai) (1.0.9)\n",
            "Requirement already satisfied: h11>=0.16 in c:\\users\\tuf\\anaconda3\\envs\\llms\\lib\\site-packages (from httpcore==1.*->httpx<1,>=0.23.0->openai) (0.16.0)\n",
            "Requirement already satisfied: annotated-types>=0.6.0 in c:\\users\\tuf\\anaconda3\\envs\\llms\\lib\\site-packages (from pydantic<3,>=1.9.0->openai) (0.7.0)\n",
            "Requirement already satisfied: pydantic-core==2.33.2 in c:\\users\\tuf\\anaconda3\\envs\\llms\\lib\\site-packages (from pydantic<3,>=1.9.0->openai) (2.33.2)\n",
            "Requirement already satisfied: typing-inspection>=0.4.0 in c:\\users\\tuf\\anaconda3\\envs\\llms\\lib\\site-packages (from pydantic<3,>=1.9.0->openai) (0.4.1)\n",
            "Requirement already satisfied: python-dateutil>=2.8.2 in c:\\users\\tuf\\anaconda3\\envs\\llms\\lib\\site-packages (from pandas) (2.9.0.post0)\n",
            "Requirement already satisfied: pytz>=2020.1 in c:\\users\\tuf\\anaconda3\\envs\\llms\\lib\\site-packages (from pandas) (2025.2)\n",
            "Requirement already satisfied: tzdata>=2022.7 in c:\\users\\tuf\\anaconda3\\envs\\llms\\lib\\site-packages (from pandas) (2025.2)\n",
            "Requirement already satisfied: six>=1.5 in c:\\users\\tuf\\anaconda3\\envs\\llms\\lib\\site-packages (from python-dateutil>=2.8.2->pandas) (1.17.0)\n",
            "Requirement already satisfied: sympy>=1.13.3 in c:\\users\\tuf\\anaconda3\\envs\\llms\\lib\\site-packages (from torch>=1.11.0->sentence-transformers) (1.14.0)\n",
            "Requirement already satisfied: networkx in c:\\users\\tuf\\anaconda3\\envs\\llms\\lib\\site-packages (from torch>=1.11.0->sentence-transformers) (3.5)\n",
            "Requirement already satisfied: jinja2 in c:\\users\\tuf\\anaconda3\\envs\\llms\\lib\\site-packages (from torch>=1.11.0->sentence-transformers) (3.1.6)\n",
            "Requirement already satisfied: mpmath<1.4,>=1.1.0 in c:\\users\\tuf\\anaconda3\\envs\\llms\\lib\\site-packages (from sympy>=1.13.3->torch>=1.11.0->sentence-transformers) (1.3.0)\n",
            "Requirement already satisfied: colorama in c:\\users\\tuf\\anaconda3\\envs\\llms\\lib\\site-packages (from tqdm->sentence-transformers) (0.4.6)\n",
            "Requirement already satisfied: MarkupSafe>=2.0 in c:\\users\\tuf\\anaconda3\\envs\\llms\\lib\\site-packages (from jinja2->torch>=1.11.0->sentence-transformers) (3.0.2)\n",
            "Requirement already satisfied: charset_normalizer<4,>=2 in c:\\users\\tuf\\anaconda3\\envs\\llms\\lib\\site-packages (from requests->transformers<5.0.0,>=4.41.0->sentence-transformers) (3.4.2)\n",
            "Requirement already satisfied: urllib3<3,>=1.21.1 in c:\\users\\tuf\\anaconda3\\envs\\llms\\lib\\site-packages (from requests->transformers<5.0.0,>=4.41.0->sentence-transformers) (2.5.0)\n",
            "Requirement already satisfied: joblib>=1.2.0 in c:\\users\\tuf\\anaconda3\\envs\\llms\\lib\\site-packages (from scikit-learn->sentence-transformers) (1.5.1)\n",
            "Requirement already satisfied: threadpoolctl>=3.1.0 in c:\\users\\tuf\\anaconda3\\envs\\llms\\lib\\site-packages (from scikit-learn->sentence-transformers) (3.6.0)\n"
          ]
        }
      ],
      "source": [
        "!pip install faiss-cpu sentence-transformers openai pandas"
      ]
    },
    {
      "cell_type": "markdown",
      "source": [
        "Import Libraries"
      ],
      "metadata": {
        "id": "ZZTsRpK4iicS"
      },
      "id": "ZZTsRpK4iicS"
    },
    {
      "cell_type": "code",
      "execution_count": null,
      "id": "e0a10893-d508-47fc-8138-4c63f251206a",
      "metadata": {
        "id": "e0a10893-d508-47fc-8138-4c63f251206a"
      },
      "outputs": [],
      "source": [
        "import pandas as pd\n",
        "import faiss\n",
        "from sentence_transformers import SentenceTransformer\n",
        "from openai import OpenAI"
      ]
    },
    {
      "cell_type": "markdown",
      "source": [
        "Set Model Name"
      ],
      "metadata": {
        "id": "rZosLDZbiknp"
      },
      "id": "rZosLDZbiknp"
    },
    {
      "cell_type": "code",
      "execution_count": null,
      "id": "bf2e51a4-f4f8-4d19-a6dc-6b01b160f0e7",
      "metadata": {
        "id": "bf2e51a4-f4f8-4d19-a6dc-6b01b160f0e7"
      },
      "outputs": [],
      "source": [
        "MODEL = \"llama3.2\"\n",
        "openai = OpenAI(base_url=\"http://localhost:11434/v1\", api_key=\"ollama\")"
      ]
    },
    {
      "cell_type": "markdown",
      "source": [
        "Prepare Sample Data"
      ],
      "metadata": {
        "id": "SxGTRO--inUh"
      },
      "id": "SxGTRO--inUh"
    },
    {
      "cell_type": "code",
      "execution_count": null,
      "id": "05ff5d53-c2d7-486a-bc68-5944705cf6f5",
      "metadata": {
        "id": "05ff5d53-c2d7-486a-bc68-5944705cf6f5"
      },
      "outputs": [],
      "source": [
        "data = {\n",
        "    \"question\": [\n",
        "        \"What is the minimum balance for a savings account?\",\n",
        "        \"How do I apply for a home loan?\",\n",
        "        \"What are the charges for international transfers?\",\n",
        "        \"How can I block my debit card?\",\n",
        "        \"What documents are needed to open a new account?\",\n",
        "        \"How can I reset my online banking password?\",\n",
        "        \"What are the working hours of the bank branches?\",\n",
        "        \"How do I check my account statement?\",\n",
        "        \"Can I get a personal loan online?\",\n",
        "        \"How do I update my contact information?\"\n",
        "    ],\n",
        "    \"answer\": [\n",
        "        \"The minimum balance for a savings account is $500.\",\n",
        "        \"You can apply for a home loan by filling out the online application form or visiting our branch.\",\n",
        "        \"International transfer fees vary, typically $25 per transaction.\",\n",
        "        \"You can block your debit card via online banking, mobile app, or calling customer support.\",\n",
        "        \"To open a new account, you need a government-issued ID, proof of address, and an initial deposit.\",\n",
        "        \"You can reset your online banking password through the 'Forgot Password' option on the login page.\",\n",
        "        \"Bank branches are open from 9:00 AM to 5:00 PM, Monday to Friday.\",\n",
        "        \"You can check your account statement through online banking or request it at a branch.\",\n",
        "        \"Yes, personal loans can be applied for online through the bank's website.\",\n",
        "        \"You can update your contact information by logging into online banking or visiting your nearest branch.\"\n",
        "    ]\n",
        "}\n",
        "\n",
        "df = pd.DataFrame(data)"
      ]
    },
    {
      "cell_type": "markdown",
      "source": [
        "Initialize Embedding Model"
      ],
      "metadata": {
        "id": "PYYzmkr8ip-J"
      },
      "id": "PYYzmkr8ip-J"
    },
    {
      "cell_type": "code",
      "execution_count": null,
      "id": "5f849edc-749e-4604-a34b-00065b272070",
      "metadata": {
        "colab": {
          "referenced_widgets": [
            "c0244a0f9ad348209bf03c4de5196f28"
          ]
        },
        "id": "5f849edc-749e-4604-a34b-00065b272070",
        "outputId": "abb86e1e-7646-4bf5-c06d-7191f6c4634f"
      },
      "outputs": [
        {
          "data": {
            "application/vnd.jupyter.widget-view+json": {
              "model_id": "c0244a0f9ad348209bf03c4de5196f28",
              "version_major": 2,
              "version_minor": 0
            },
            "text/plain": [
              "Batches:   0%|          | 0/1 [00:00<?, ?it/s]"
            ]
          },
          "metadata": {},
          "output_type": "display_data"
        }
      ],
      "source": [
        "embedding_model = SentenceTransformer(\"sentence-transformers/all-MiniLM-L6-v2\")\n",
        "question_embeddings = embedding_model.encode(df[\"question\"].tolist(), convert_to_numpy=True, show_progress_bar=True)"
      ]
    },
    {
      "cell_type": "markdown",
      "source": [
        "Set Embedding Dimensions"
      ],
      "metadata": {
        "id": "AERGGylOisGi"
      },
      "id": "AERGGylOisGi"
    },
    {
      "cell_type": "code",
      "execution_count": null,
      "id": "56567886-44b9-480d-bfd5-86160ca02105",
      "metadata": {
        "id": "56567886-44b9-480d-bfd5-86160ca02105"
      },
      "outputs": [],
      "source": [
        "embedding_dim = question_embeddings.shape[1]\n",
        "index = faiss.IndexFlatL2(embedding_dim)\n",
        "index.add(question_embeddings)"
      ]
    },
    {
      "cell_type": "markdown",
      "source": [
        "Define RAG Query Function"
      ],
      "metadata": {
        "id": "i7-jGhnXiv2Y"
      },
      "id": "i7-jGhnXiv2Y"
    },
    {
      "cell_type": "code",
      "execution_count": null,
      "id": "8e0bd72b-354b-4cdd-9104-2e8a11a2830f",
      "metadata": {
        "id": "8e0bd72b-354b-4cdd-9104-2e8a11a2830f"
      },
      "outputs": [],
      "source": [
        "def rag_query(user_question, top_k=2):\n",
        "    # 1. Embed the user question\n",
        "    q_emb = embedding_model.encode([user_question], convert_to_numpy=True)\n",
        "\n",
        "    # 2. Retrieve top_k similar FAQ answers\n",
        "    D, I = index.search(q_emb, top_k)\n",
        "    context = \"\\n\".join([df.iloc[i][\"answer\"] for i in I[0]])\n",
        "\n",
        "    # 3. Prepare prompt for Llama 3.2\n",
        "    prompt = f\"Use the following context to answer the question.\\nContext: {context}\\nQuestion: {user_question}\\nAnswer:\"\n",
        "\n",
        "    # 4. Get completion from Ollama Llama 3.2\n",
        "    response = openai.chat.completions.create(\n",
        "        model=MODEL,\n",
        "        messages=[{\"role\": \"user\", \"content\": prompt}]\n",
        "    )\n",
        "\n",
        "    return response.choices[0].message.content"
      ]
    },
    {
      "cell_type": "markdown",
      "source": [
        "Sample Questions List"
      ],
      "metadata": {
        "id": "VSB9Wzm_ixyp"
      },
      "id": "VSB9Wzm_ixyp"
    },
    {
      "cell_type": "code",
      "execution_count": null,
      "id": "dc9eb2e8-cb1f-41ee-9302-07b7bd0fd330",
      "metadata": {
        "id": "dc9eb2e8-cb1f-41ee-9302-07b7bd0fd330",
        "outputId": "2a3da328-8fd3-4a5b-ec57-d3be53fe6e9e"
      },
      "outputs": [
        {
          "name": "stdout",
          "output_type": "stream",
          "text": [
            "User Question: How can I block my debit card quickly?\n",
            "RAG Answer: To block your debit card quickly, you can call customer support.\n",
            "\n",
            "User Question: What is the minimum amount I must keep in my savings account?\n",
            "RAG Answer: The minimum amount you must keep in your savings account is $500.\n",
            "\n",
            "User Question: Which documents do I need to open a new bank account?\n",
            "RAG Answer: To open a new account, you will need two documents:\n",
            "\n",
            "1. A government-issued ID\n",
            "2. Proof of address\n",
            "\n",
            "You can reset your online banking password using the 'Forgot Password' option on the login page if you cannot remember it.\n",
            "\n",
            "User Question: How do I reset my online banking password?\n",
            "RAG Answer: To reset your online banking password, click on the 'Forgot Password' option on the login page and follow the prompts to create a new password.\n",
            "\n",
            "User Question: Can I apply for a personal loan online?\n",
            "RAG Answer: Yes, you can apply for a personal loan online.\n",
            "\n",
            "User Question: What are the bank branch working hours?\n",
            "RAG Answer: The bank branches are open from 9:00 AM to 5:00 PM, Monday to Friday.\n",
            "\n",
            "User Question: How do I check my account statement?\n",
            "RAG Answer: You can check your account statement by accessing your online banking account through our website, or by visiting one of our branches in person.\n",
            "\n",
            "User Question: How can I update my contact information?\n",
            "RAG Answer: To update your contact information, please log into your online banking account or visit your nearest branch.\n",
            "\n",
            "User Question: How do I apply for a home loan?\n",
            "RAG Answer: You can apply for a home loan either by filling out the online application form on our website or by visiting one of our branches.\n",
            "\n",
            "User Question: What are the charges for international transfers?\n",
            "RAG Answer: $25 per transaction.\n",
            "\n"
          ]
        }
      ],
      "source": [
        "questions = [\n",
        "    \"How can I block my debit card quickly?\",\n",
        "    \"What is the minimum amount I must keep in my savings account?\",\n",
        "    \"Which documents do I need to open a new bank account?\",\n",
        "    \"How do I reset my online banking password?\",\n",
        "    \"Can I apply for a personal loan online?\",\n",
        "    \"What are the bank branch working hours?\",\n",
        "    \"How do I check my account statement?\",\n",
        "    \"How can I update my contact information?\",\n",
        "    \"How do I apply for a home loan?\",\n",
        "    \"What are the charges for international transfers?\"\n",
        "]\n",
        "\n",
        "for q in questions:\n",
        "    print(f\"User Question: {q}\")\n",
        "    print(f\"RAG Answer: {rag_query(q)}\\n\")"
      ]
    }
  ],
  "metadata": {
    "kernelspec": {
      "display_name": "Python 3 (ipykernel)",
      "language": "python",
      "name": "python3"
    },
    "language_info": {
      "codemirror_mode": {
        "name": "ipython",
        "version": 3
      },
      "file_extension": ".py",
      "mimetype": "text/x-python",
      "name": "python",
      "nbconvert_exporter": "python",
      "pygments_lexer": "ipython3",
      "version": "3.11.13"
    },
    "colab": {
      "provenance": [],
      "include_colab_link": true
    }
  },
  "nbformat": 4,
  "nbformat_minor": 5
}